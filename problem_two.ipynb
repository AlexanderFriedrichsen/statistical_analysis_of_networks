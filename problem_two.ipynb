{
 "cells": [
  {
   "cell_type": "markdown",
   "metadata": {},
   "source": [
    "Problem 2.2: Let's revisit this graph with computer code.\n",
    "\n",
    "Using simple data structures such as lists, vectors, sets, maps, and dictionaries, load the above graph in memory.\n",
    "\n",
    "You may represent it as an edge list or an adjacency list, whichever is the most appropriate. Explain your choice.\n",
    "\n",
    "For each of the quantities above---the in- and out-degree, the matrix $\\bm{\\delta}$ of common neighbors, and the number of triangles---write \\textbf{an algorithm} that takes your graph representation as output and outputs the quantity. Do not use the matrix formula above; instead, use simple operations such as list traversal, taking the length of lists, set operations, and so on.\n",
    "\n",
    "\n"
   ]
  },
  {
   "cell_type": "code",
   "execution_count": 1,
   "metadata": {},
   "outputs": [],
   "source": [
    "import networkx as nx\n",
    "import pandas as pd\n",
    "import numpy as np\n",
    "#import matplotlib as plt\n"
   ]
  },
  {
   "cell_type": "code",
   "execution_count": 3,
   "metadata": {},
   "outputs": [],
   "source": [
    "#quick function to convert adjacency matrices to edge lists\n",
    "\n",
    "def adjacency_matrix_to_edgelist(matrix):\n",
    "    rows, cols = np.where(matrix == 1)\n",
    "    edges = list(zip(rows + 1, cols + 1))\n",
    "    return edges\n",
    "\n"
   ]
  },
  {
   "cell_type": "code",
   "execution_count": 9,
   "metadata": {},
   "outputs": [
    {
     "name": "stdout",
     "output_type": "stream",
     "text": [
      "[(1, 2), (2, 1), (3, 1), (3, 2), (3, 4), (3, 5), (4, 3), (4, 5), (5, 3), (5, 4)]\n"
     ]
    },
    {
     "data": {
      "image/png": "[encoded data removed]",
      "text/plain": [
       "<Figure size 432x288 with 1 Axes>"
      ]
     },
     "metadata": {},
     "output_type": "display_data"
    }
   ],
   "source": [
    "adjacency_matrix = np.array([[0, 1, 0, 0, 0], [1, 0, 0, 0, 0], [1, 1, 0, 1, 1], [0, 0, 1, 0, 1], [0, 0, 1, 1, 0]])\n",
    "G = nx.from_numpy_matrix(adjacency_matrix, create_using=nx.DiGraph)\n",
    "mapping = {i: i + 1 for i in G.nodes}\n",
    "\n",
    "#so labels match the hw representation\n",
    "G = nx.relabel_nodes(G, mapping)\n",
    "nx.draw(G,with_labels=True)\n",
    "\n",
    "print(G.edges)\n",
    "\n"
   ]
  },
  {
   "cell_type": "code",
   "execution_count": 11,
   "metadata": {},
   "outputs": [
    {
     "name": "stdout",
     "output_type": "stream",
     "text": [
      "[2, 2, 2, 2, 2]\n"
     ]
    }
   ],
   "source": [
    "#a column vector of in-degree, whose i-th entry is the in-degree of node i;\n",
    "# n is number of nodes\n",
    "def in_degree_from_edgelist(edges, n):\n",
    "    indegree = [0] * n\n",
    "    for (u, v) in edges:\n",
    "        indegree[v - 1] += 1\n",
    "    return indegree\n",
    "\n",
    "print(in_degree_from_edgelist(G.edges, len(G.nodes)))"
   ]
  },
  {
   "cell_type": "code",
   "execution_count": 12,
   "metadata": {},
   "outputs": [
    {
     "name": "stdout",
     "output_type": "stream",
     "text": [
      "[1, 1, 4, 2, 2]\n"
     ]
    }
   ],
   "source": [
    "#a column vector of out-degree;\n",
    "def out_degree_from_edgelist(edges, n):\n",
    "    outdegree = [0] * n\n",
    "    for (u, v) in edges:\n",
    "        outdegree[u - 1] += 1\n",
    "    return outdegree\n",
    "\n",
    "print(out_degree_from_edgelist(G.edges, len(G.nodes)))\n"
   ]
  },
  {
   "cell_type": "code",
   "execution_count": 13,
   "metadata": {},
   "outputs": [
    {
     "name": "stdout",
     "output_type": "stream",
     "text": [
      "[[0, 1, 1, 1, 1], [1, 0, 1, 1, 1], [1, 1, 0, 1, 1], [1, 1, 1, 0, 1], [1, 1, 1, 1, 0]]\n"
     ]
    }
   ],
   "source": [
    "#the matrix δ whose element δij is equal to the number of common neighbors of nodes i and j;\n",
    "\n",
    "def common_neighbors_matrix(edges, n):\n",
    "    neighbors = [[] for _ in range(n)]\n",
    "    for (u, v) in edges:\n",
    "        neighbors[u - 1].append(v)\n",
    "        neighbors[v - 1].append(u)\n",
    "    delta = [[0] * n for _ in range(n)]\n",
    "    for i in range(n):\n",
    "        for j in range(i + 1, n):\n",
    "            common = len(set(neighbors[i]).intersection(neighbors[j]))\n",
    "            delta[i][j] = delta[j][i] = common\n",
    "    return delta\n",
    "\n",
    "print(common_neighbors_matrix(G.edges, len(G.nodes)))\n",
    "    "
   ]
  },
  {
   "cell_type": "code",
   "execution_count": 19,
   "metadata": {},
   "outputs": [
    {
     "name": "stdout",
     "output_type": "stream",
     "text": [
      "1\n",
      "6\n"
     ]
    }
   ],
   "source": [
    "\n",
    "# this function comes from Cam and Spencer!\n",
    "adjacency_list = dict(G.adjacency())\n",
    "\n",
    "def count_triangles(adjacency_list):\n",
    "    triangles = 0\n",
    "    for i, neighbor in adjacency_list.items():\n",
    "        for j in neighbor: \n",
    "            if i in adjacency_list[j]:\n",
    "                for k in adjacency_list[j]:\n",
    "                    if k in adjacency_list[i]:\n",
    "                        triangles += 1\n",
    "    triangles = triangles // 6 \n",
    "    return(triangles)\n",
    "\n",
    "print(count_triangles(adjacency_list))\n",
    "\n",
    "\n",
    "# adjacency_list2 = {1: [2, 3, 4], 2: [1, 4, 5], 3: [1, 4, 6], 4: [1, 2, 3, 5, 6, 7], 5: [2, 4, 7], 6: [3, 4, 7], 7: [4, 5, 6]}\n",
    "# print(count_triangles(adjacency_list2))"
   ]
  }
 ],
 "metadata": {
  "kernelspec": {
   "display_name": "Python 3.9.7 64-bit",
   "language": "python",
   "name": "python3"
  },
  "language_info": {
   "codemirror_mode": {
    "name": "ipython",
    "version": 3
   },
   "file_extension": ".py",
   "mimetype": "text/x-python",
   "name": "python",
   "nbconvert_exporter": "python",
   "pygments_lexer": "ipython3",
   "version": "3.9.7"
  },
  "orig_nbformat": 4,
  "vscode": {
   "interpreter": {
    "hash": "771b2e09279bc50dd058e87d6b1c79418da63e1e1d4caf4728a325dde75439e2"
   }
  }
 },
 "nbformat": 4,
 "nbformat_minor": 2
}
